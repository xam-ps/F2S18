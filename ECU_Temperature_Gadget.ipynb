{
 "cells": [
  {
   "cell_type": "code",
   "execution_count": 1,
   "metadata": {},
   "outputs": [],
   "source": [
    "import os\n",
    "import numpy as np\n",
    "import pandas as pd\n",
    "import plotly.plotly as py\n",
    "import plotly.graph_objs as go\n",
    "from plotly.offline import download_plotlyjs, init_notebook_mode, plot, iplot"
   ]
  },
  {
   "cell_type": "code",
   "execution_count": 2,
   "metadata": {},
   "outputs": [
    {
     "name": "stdout",
     "output_type": "stream",
     "text": [
      "['data/vin=VF1RFA00357138740.csv', 'data/vin=VF1RFA00257138714.csv']\n"
     ]
    }
   ],
   "source": [
    "files = [f'data{os.sep}{d}' for d in os.listdir('data') if '.csv' in d]\n",
    "print(files)"
   ]
  },
  {
   "cell_type": "code",
   "execution_count": 9,
   "metadata": {},
   "outputs": [
    {
     "name": "stdout",
     "output_type": "stream",
     "text": [
      "Loading Aggregated files\n",
      "Shape of VF1RFA00357138740 data: (6586, 65)\n",
      "Timestamp range: 2017-12-11 17:19:07 - 2018-08-09 05:25:51\n"
     ]
    },
    {
     "data": {
      "text/html": [
       "<div>\n",
       "<style scoped>\n",
       "    .dataframe tbody tr th:only-of-type {\n",
       "        vertical-align: middle;\n",
       "    }\n",
       "\n",
       "    .dataframe tbody tr th {\n",
       "        vertical-align: top;\n",
       "    }\n",
       "\n",
       "    .dataframe thead th {\n",
       "        text-align: right;\n",
       "    }\n",
       "</style>\n",
       "<table border=\"1\" class=\"dataframe\">\n",
       "  <thead>\n",
       "    <tr style=\"text-align: right;\">\n",
       "      <th></th>\n",
       "      <th>Vehicle_Number</th>\n",
       "      <th>Ambiant_Pressure</th>\n",
       "      <th>Canister_Controler</th>\n",
       "      <th>Current_for_Injector_Opening</th>\n",
       "      <th>Distance_Km</th>\n",
       "      <th>Lambda_Adapation</th>\n",
       "      <th>Gear_Engaged</th>\n",
       "      <th>Lambda_Control_1</th>\n",
       "      <th>Lambda_Control_2</th>\n",
       "      <th>MAF_Before_Compressor</th>\n",
       "      <th>...</th>\n",
       "      <th>time_30_s</th>\n",
       "      <th>timestamp</th>\n",
       "      <th>Engine_Oil_Temperature</th>\n",
       "      <th>Trt</th>\n",
       "      <th>Battery_Voltage</th>\n",
       "      <th>Voltage_Boost_Injector_control</th>\n",
       "      <th>Pump_Adaptation_1</th>\n",
       "      <th>Waste_Gate_Adapatation_1</th>\n",
       "      <th>Waste_Gate_Adapatation_2</th>\n",
       "      <th>Vehicle_Speed</th>\n",
       "    </tr>\n",
       "    <tr>\n",
       "      <th>ts</th>\n",
       "      <th></th>\n",
       "      <th></th>\n",
       "      <th></th>\n",
       "      <th></th>\n",
       "      <th></th>\n",
       "      <th></th>\n",
       "      <th></th>\n",
       "      <th></th>\n",
       "      <th></th>\n",
       "      <th></th>\n",
       "      <th></th>\n",
       "      <th></th>\n",
       "      <th></th>\n",
       "      <th></th>\n",
       "      <th></th>\n",
       "      <th></th>\n",
       "      <th></th>\n",
       "      <th></th>\n",
       "      <th></th>\n",
       "      <th></th>\n",
       "      <th></th>\n",
       "    </tr>\n",
       "  </thead>\n",
       "  <tbody>\n",
       "    <tr>\n",
       "      <th>2018-08-01 17:29:43</th>\n",
       "      <td>VF1RFA00357138740</td>\n",
       "      <td>980.774720</td>\n",
       "      <td>8.806135</td>\n",
       "      <td>15.596389</td>\n",
       "      <td>20710</td>\n",
       "      <td>-0.682068</td>\n",
       "      <td>5.921257</td>\n",
       "      <td>14.573935</td>\n",
       "      <td>18.038272</td>\n",
       "      <td>68.969100</td>\n",
       "      <td>...</td>\n",
       "      <td>521.065868</td>\n",
       "      <td>2018-08-01 17:29:43</td>\n",
       "      <td>97.000000</td>\n",
       "      <td>394680.244351</td>\n",
       "      <td>13.471668</td>\n",
       "      <td>64.546068</td>\n",
       "      <td>-0.006349</td>\n",
       "      <td>1.576034</td>\n",
       "      <td>4.499969</td>\n",
       "      <td>85.194211</td>\n",
       "    </tr>\n",
       "    <tr>\n",
       "      <th>2018-07-20 07:32:25</th>\n",
       "      <td>VF1RFA00357138740</td>\n",
       "      <td>963.088938</td>\n",
       "      <td>7.982265</td>\n",
       "      <td>14.641683</td>\n",
       "      <td>18448</td>\n",
       "      <td>0.878906</td>\n",
       "      <td>6.000000</td>\n",
       "      <td>11.637842</td>\n",
       "      <td>16.047049</td>\n",
       "      <td>35.964943</td>\n",
       "      <td>...</td>\n",
       "      <td>699.457476</td>\n",
       "      <td>2018-07-20 07:32:25</td>\n",
       "      <td>100.000406</td>\n",
       "      <td>295684.537912</td>\n",
       "      <td>14.470404</td>\n",
       "      <td>64.364013</td>\n",
       "      <td>-0.006451</td>\n",
       "      <td>1.541901</td>\n",
       "      <td>4.499969</td>\n",
       "      <td>129.286561</td>\n",
       "    </tr>\n",
       "    <tr>\n",
       "      <th>2018-07-23 07:36:25</th>\n",
       "      <td>VF1RFA00357138740</td>\n",
       "      <td>970.696425</td>\n",
       "      <td>84.499417</td>\n",
       "      <td>12.106834</td>\n",
       "      <td>18898</td>\n",
       "      <td>-0.881958</td>\n",
       "      <td>6.000000</td>\n",
       "      <td>18.247602</td>\n",
       "      <td>18.072150</td>\n",
       "      <td>19.805319</td>\n",
       "      <td>...</td>\n",
       "      <td>143.856192</td>\n",
       "      <td>2018-07-23 07:36:25</td>\n",
       "      <td>96.000000</td>\n",
       "      <td>312699.890871</td>\n",
       "      <td>14.111148</td>\n",
       "      <td>64.396522</td>\n",
       "      <td>-0.003889</td>\n",
       "      <td>1.537018</td>\n",
       "      <td>4.499969</td>\n",
       "      <td>107.877954</td>\n",
       "    </tr>\n",
       "  </tbody>\n",
       "</table>\n",
       "<p>3 rows × 65 columns</p>\n",
       "</div>"
      ],
      "text/plain": [
       "                        Vehicle_Number  Ambiant_Pressure  Canister_Controler  \\\n",
       "ts                                                                             \n",
       "2018-08-01 17:29:43  VF1RFA00357138740        980.774720            8.806135   \n",
       "2018-07-20 07:32:25  VF1RFA00357138740        963.088938            7.982265   \n",
       "2018-07-23 07:36:25  VF1RFA00357138740        970.696425           84.499417   \n",
       "\n",
       "                     Current_for_Injector_Opening  Distance_Km  \\\n",
       "ts                                                               \n",
       "2018-08-01 17:29:43                     15.596389        20710   \n",
       "2018-07-20 07:32:25                     14.641683        18448   \n",
       "2018-07-23 07:36:25                     12.106834        18898   \n",
       "\n",
       "                     Lambda_Adapation  Gear_Engaged  Lambda_Control_1  \\\n",
       "ts                                                                      \n",
       "2018-08-01 17:29:43         -0.682068      5.921257         14.573935   \n",
       "2018-07-20 07:32:25          0.878906      6.000000         11.637842   \n",
       "2018-07-23 07:36:25         -0.881958      6.000000         18.247602   \n",
       "\n",
       "                     Lambda_Control_2  MAF_Before_Compressor      ...        \\\n",
       "ts                                                                ...         \n",
       "2018-08-01 17:29:43         18.038272              68.969100      ...         \n",
       "2018-07-20 07:32:25         16.047049              35.964943      ...         \n",
       "2018-07-23 07:36:25         18.072150              19.805319      ...         \n",
       "\n",
       "                      time_30_s           timestamp  Engine_Oil_Temperature  \\\n",
       "ts                                                                            \n",
       "2018-08-01 17:29:43  521.065868 2018-08-01 17:29:43               97.000000   \n",
       "2018-07-20 07:32:25  699.457476 2018-07-20 07:32:25              100.000406   \n",
       "2018-07-23 07:36:25  143.856192 2018-07-23 07:36:25               96.000000   \n",
       "\n",
       "                               Trt  Battery_Voltage  \\\n",
       "ts                                                    \n",
       "2018-08-01 17:29:43  394680.244351        13.471668   \n",
       "2018-07-20 07:32:25  295684.537912        14.470404   \n",
       "2018-07-23 07:36:25  312699.890871        14.111148   \n",
       "\n",
       "                     Voltage_Boost_Injector_control  Pump_Adaptation_1  \\\n",
       "ts                                                                       \n",
       "2018-08-01 17:29:43                       64.546068          -0.006349   \n",
       "2018-07-20 07:32:25                       64.364013          -0.006451   \n",
       "2018-07-23 07:36:25                       64.396522          -0.003889   \n",
       "\n",
       "                     Waste_Gate_Adapatation_1  Waste_Gate_Adapatation_2  \\\n",
       "ts                                                                        \n",
       "2018-08-01 17:29:43                  1.576034                  4.499969   \n",
       "2018-07-20 07:32:25                  1.541901                  4.499969   \n",
       "2018-07-23 07:36:25                  1.537018                  4.499969   \n",
       "\n",
       "                     Vehicle_Speed  \n",
       "ts                                  \n",
       "2018-08-01 17:29:43      85.194211  \n",
       "2018-07-20 07:32:25     129.286561  \n",
       "2018-07-23 07:36:25     107.877954  \n",
       "\n",
       "[3 rows x 65 columns]"
      ]
     },
     "execution_count": 9,
     "metadata": {},
     "output_type": "execute_result"
    }
   ],
   "source": [
    "print(f'Loading Aggregated files')\n",
    "df_agg_740 = pd.read_csv(files[0])\n",
    "print(f'Shape of VF1RFA00357138740 data: {df_agg_740.shape}')\n",
    "df_agg_740['timestamp'] = pd.to_datetime(df_agg_740['timestamp'], unit = 's')\n",
    "df_agg_740['ts'] = pd.to_datetime(df_agg_740['timestamp'], unit = 's')\n",
    "print(f'Timestamp range: {min(df_agg_740[\"timestamp\"])} - {max(df_agg_740[\"timestamp\"])}')\n",
    "df_agg_740 = df_agg_740.set_index('ts')\n",
    "df_agg_740.head(n=3)"
   ]
  },
  {
   "cell_type": "code",
   "execution_count": 8,
   "metadata": {},
   "outputs": [
    {
     "data": {
      "text/plain": [
       "Timestamp('2018-08-01 17:29:43')"
      ]
     },
     "execution_count": 8,
     "metadata": {},
     "output_type": "execute_result"
    }
   ],
   "source": [
    "def convert_string_to_datetime64(date_string):\n",
    "    return pd.to_datetime(date_string)\n",
    "\n",
    "#Test\n",
    "convert_string_to_datetime64(\"2018-08-01 17:29:43\")"
   ]
  },
  {
   "cell_type": "code",
   "execution_count": 16,
   "metadata": {},
   "outputs": [],
   "source": [
    "def filter_data_based_on_timestamp_and_ecu_temperature(t1, t2, low, high):\n",
    "    return df_agg_740[(df_agg_740.timestamp >= t1) & (df_agg_740.timestamp <= t2) & (df_agg_740.ECU_Temperature >= low) & (df_agg_740.ECU_Temperature <= high)]"
   ]
  },
  {
   "cell_type": "code",
   "execution_count": 19,
   "metadata": {},
   "outputs": [
    {
     "data": {
      "text/plain": [
       "59.25388600815722"
      ]
     },
     "execution_count": 19,
     "metadata": {},
     "output_type": "execute_result"
    }
   ],
   "source": [
    "t1 = convert_string_to_datetime64(\"2018-01-01 00:00:00\")\n",
    "t2 = convert_string_to_datetime64(\"2018-06-19 00:00:00\")\n",
    "filtered_df = filter_data_based_on_timestamp_and_ecu_temperature(t1, t2, 20.0, 60.0)\n",
    "df = filtered_df[['timestamp', 'ECU_Temperature']]\n",
    "print(min(df['ECU_Temperature']))\n",
    "print(max(df['ECU_Temperature']))"
   ]
  },
  {
   "cell_type": "code",
   "execution_count": null,
   "metadata": {},
   "outputs": [],
   "source": []
  }
 ],
 "metadata": {
  "kernelspec": {
   "display_name": "Python 3",
   "language": "python",
   "name": "python3"
  },
  "language_info": {
   "codemirror_mode": {
    "name": "ipython",
    "version": 3
   },
   "file_extension": ".py",
   "mimetype": "text/x-python",
   "name": "python",
   "nbconvert_exporter": "python",
   "pygments_lexer": "ipython3",
   "version": "3.6.4"
  }
 },
 "nbformat": 4,
 "nbformat_minor": 2
}
